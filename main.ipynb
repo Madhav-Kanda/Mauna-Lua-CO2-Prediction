{
  "cells": [
    {
      "cell_type": "code",
      "source": [
        "!pip install -q GPy\n",
        "!pip install -q flax"
      ],
      "metadata": {
        "colab": {
          "base_uri": "https://localhost:8080/"
        },
        "id": "_TnDgpciDYsU",
        "outputId": "829a11fb-5c2d-4b9d-e78a-6cc71a96732d"
      },
      "id": "_TnDgpciDYsU",
      "execution_count": 1,
      "outputs": [
        {
          "output_type": "stream",
          "name": "stdout",
          "text": [
            "\u001b[K     |████████████████████████████████| 959 kB 19.2 MB/s \n",
            "\u001b[K     |████████████████████████████████| 71 kB 9.4 MB/s \n",
            "\u001b[?25h  Building wheel for GPy (setup.py) ... \u001b[?25l\u001b[?25hdone\n",
            "  Building wheel for paramz (setup.py) ... \u001b[?25l\u001b[?25hdone\n",
            "\u001b[K     |████████████████████████████████| 185 kB 32.2 MB/s \n",
            "\u001b[K     |████████████████████████████████| 237 kB 67.2 MB/s \n",
            "\u001b[K     |████████████████████████████████| 145 kB 66.7 MB/s \n",
            "\u001b[K     |████████████████████████████████| 51 kB 6.9 MB/s \n",
            "\u001b[K     |████████████████████████████████| 85 kB 4.1 MB/s \n",
            "\u001b[?25h"
          ]
        }
      ]
    },
    {
      "cell_type": "code",
      "execution_count": 2,
      "id": "071b5576",
      "metadata": {
        "id": "071b5576"
      },
      "outputs": [],
      "source": [
        "import matplotlib.pyplot as plt\n",
        "import pickle\n",
        "import GPy\n",
        "kernels=GPy.kern\n",
        "import flax\n",
        "import flax.linen as nn\n",
        "import jax\n",
        "import jax.numpy as jnp\n",
        "import pandas as pd\n",
        "from sklearn import preprocessing as sp\n",
        "import optax\n",
        "import seaborn as sns\n",
        "from functools import partial\n",
        "from sklearn import datasets"
      ]
    },
    {
      "cell_type": "markdown",
      "id": "3a262ba8",
      "metadata": {
        "id": "3a262ba8"
      },
      "source": [
        "### **Loading the data & visualising it**"
      ]
    },
    {
      "cell_type": "code",
      "execution_count": 3,
      "id": "e0853592",
      "metadata": {
        "id": "e0853592"
      },
      "outputs": [],
      "source": [
        "dataset = datasets.fetch_openml(data_id=41187, as_frame=True)   # load the dataset"
      ]
    },
    {
      "cell_type": "code",
      "execution_count": 4,
      "id": "b25675d2",
      "metadata": {
        "colab": {
          "base_uri": "https://localhost:8080/",
          "height": 206
        },
        "id": "b25675d2",
        "outputId": "71f2f2cf-4620-4677-91de-e03ec6e080bc"
      },
      "outputs": [
        {
          "output_type": "execute_result",
          "data": {
            "text/plain": [
              "     year  month   day  weight  flag station    co2\n",
              "0  1958.0    3.0  29.0     4.0   0.0     MLO  316.1\n",
              "1  1958.0    4.0   5.0     6.0   0.0     MLO  317.3\n",
              "2  1958.0    4.0  12.0     4.0   0.0     MLO  317.6\n",
              "3  1958.0    4.0  19.0     6.0   0.0     MLO  317.5\n",
              "4  1958.0    4.0  26.0     2.0   0.0     MLO  316.4"
            ],
            "text/html": [
              "\n",
              "  <div id=\"df-4c36ceae-ffab-4d3c-b88a-95c524b6e2c7\">\n",
              "    <div class=\"colab-df-container\">\n",
              "      <div>\n",
              "<style scoped>\n",
              "    .dataframe tbody tr th:only-of-type {\n",
              "        vertical-align: middle;\n",
              "    }\n",
              "\n",
              "    .dataframe tbody tr th {\n",
              "        vertical-align: top;\n",
              "    }\n",
              "\n",
              "    .dataframe thead th {\n",
              "        text-align: right;\n",
              "    }\n",
              "</style>\n",
              "<table border=\"1\" class=\"dataframe\">\n",
              "  <thead>\n",
              "    <tr style=\"text-align: right;\">\n",
              "      <th></th>\n",
              "      <th>year</th>\n",
              "      <th>month</th>\n",
              "      <th>day</th>\n",
              "      <th>weight</th>\n",
              "      <th>flag</th>\n",
              "      <th>station</th>\n",
              "      <th>co2</th>\n",
              "    </tr>\n",
              "  </thead>\n",
              "  <tbody>\n",
              "    <tr>\n",
              "      <th>0</th>\n",
              "      <td>1958.0</td>\n",
              "      <td>3.0</td>\n",
              "      <td>29.0</td>\n",
              "      <td>4.0</td>\n",
              "      <td>0.0</td>\n",
              "      <td>MLO</td>\n",
              "      <td>316.1</td>\n",
              "    </tr>\n",
              "    <tr>\n",
              "      <th>1</th>\n",
              "      <td>1958.0</td>\n",
              "      <td>4.0</td>\n",
              "      <td>5.0</td>\n",
              "      <td>6.0</td>\n",
              "      <td>0.0</td>\n",
              "      <td>MLO</td>\n",
              "      <td>317.3</td>\n",
              "    </tr>\n",
              "    <tr>\n",
              "      <th>2</th>\n",
              "      <td>1958.0</td>\n",
              "      <td>4.0</td>\n",
              "      <td>12.0</td>\n",
              "      <td>4.0</td>\n",
              "      <td>0.0</td>\n",
              "      <td>MLO</td>\n",
              "      <td>317.6</td>\n",
              "    </tr>\n",
              "    <tr>\n",
              "      <th>3</th>\n",
              "      <td>1958.0</td>\n",
              "      <td>4.0</td>\n",
              "      <td>19.0</td>\n",
              "      <td>6.0</td>\n",
              "      <td>0.0</td>\n",
              "      <td>MLO</td>\n",
              "      <td>317.5</td>\n",
              "    </tr>\n",
              "    <tr>\n",
              "      <th>4</th>\n",
              "      <td>1958.0</td>\n",
              "      <td>4.0</td>\n",
              "      <td>26.0</td>\n",
              "      <td>2.0</td>\n",
              "      <td>0.0</td>\n",
              "      <td>MLO</td>\n",
              "      <td>316.4</td>\n",
              "    </tr>\n",
              "  </tbody>\n",
              "</table>\n",
              "</div>\n",
              "      <button class=\"colab-df-convert\" onclick=\"convertToInteractive('df-4c36ceae-ffab-4d3c-b88a-95c524b6e2c7')\"\n",
              "              title=\"Convert this dataframe to an interactive table.\"\n",
              "              style=\"display:none;\">\n",
              "        \n",
              "  <svg xmlns=\"http://www.w3.org/2000/svg\" height=\"24px\"viewBox=\"0 0 24 24\"\n",
              "       width=\"24px\">\n",
              "    <path d=\"M0 0h24v24H0V0z\" fill=\"none\"/>\n",
              "    <path d=\"M18.56 5.44l.94 2.06.94-2.06 2.06-.94-2.06-.94-.94-2.06-.94 2.06-2.06.94zm-11 1L8.5 8.5l.94-2.06 2.06-.94-2.06-.94L8.5 2.5l-.94 2.06-2.06.94zm10 10l.94 2.06.94-2.06 2.06-.94-2.06-.94-.94-2.06-.94 2.06-2.06.94z\"/><path d=\"M17.41 7.96l-1.37-1.37c-.4-.4-.92-.59-1.43-.59-.52 0-1.04.2-1.43.59L10.3 9.45l-7.72 7.72c-.78.78-.78 2.05 0 2.83L4 21.41c.39.39.9.59 1.41.59.51 0 1.02-.2 1.41-.59l7.78-7.78 2.81-2.81c.8-.78.8-2.07 0-2.86zM5.41 20L4 18.59l7.72-7.72 1.47 1.35L5.41 20z\"/>\n",
              "  </svg>\n",
              "      </button>\n",
              "      \n",
              "  <style>\n",
              "    .colab-df-container {\n",
              "      display:flex;\n",
              "      flex-wrap:wrap;\n",
              "      gap: 12px;\n",
              "    }\n",
              "\n",
              "    .colab-df-convert {\n",
              "      background-color: #E8F0FE;\n",
              "      border: none;\n",
              "      border-radius: 50%;\n",
              "      cursor: pointer;\n",
              "      display: none;\n",
              "      fill: #1967D2;\n",
              "      height: 32px;\n",
              "      padding: 0 0 0 0;\n",
              "      width: 32px;\n",
              "    }\n",
              "\n",
              "    .colab-df-convert:hover {\n",
              "      background-color: #E2EBFA;\n",
              "      box-shadow: 0px 1px 2px rgba(60, 64, 67, 0.3), 0px 1px 3px 1px rgba(60, 64, 67, 0.15);\n",
              "      fill: #174EA6;\n",
              "    }\n",
              "\n",
              "    [theme=dark] .colab-df-convert {\n",
              "      background-color: #3B4455;\n",
              "      fill: #D2E3FC;\n",
              "    }\n",
              "\n",
              "    [theme=dark] .colab-df-convert:hover {\n",
              "      background-color: #434B5C;\n",
              "      box-shadow: 0px 1px 3px 1px rgba(0, 0, 0, 0.15);\n",
              "      filter: drop-shadow(0px 1px 2px rgba(0, 0, 0, 0.3));\n",
              "      fill: #FFFFFF;\n",
              "    }\n",
              "  </style>\n",
              "\n",
              "      <script>\n",
              "        const buttonEl =\n",
              "          document.querySelector('#df-4c36ceae-ffab-4d3c-b88a-95c524b6e2c7 button.colab-df-convert');\n",
              "        buttonEl.style.display =\n",
              "          google.colab.kernel.accessAllowed ? 'block' : 'none';\n",
              "\n",
              "        async function convertToInteractive(key) {\n",
              "          const element = document.querySelector('#df-4c36ceae-ffab-4d3c-b88a-95c524b6e2c7');\n",
              "          const dataTable =\n",
              "            await google.colab.kernel.invokeFunction('convertToInteractive',\n",
              "                                                     [key], {});\n",
              "          if (!dataTable) return;\n",
              "\n",
              "          const docLinkHtml = 'Like what you see? Visit the ' +\n",
              "            '<a target=\"_blank\" href=https://colab.research.google.com/notebooks/data_table.ipynb>data table notebook</a>'\n",
              "            + ' to learn more about interactive tables.';\n",
              "          element.innerHTML = '';\n",
              "          dataTable['output_type'] = 'display_data';\n",
              "          await google.colab.output.renderOutput(dataTable, element);\n",
              "          const docLink = document.createElement('div');\n",
              "          docLink.innerHTML = docLinkHtml;\n",
              "          element.appendChild(docLink);\n",
              "        }\n",
              "      </script>\n",
              "    </div>\n",
              "  </div>\n",
              "  "
            ]
          },
          "metadata": {},
          "execution_count": 4
        }
      ],
      "source": [
        "dataset.frame.head()  # show the first 5 rows of the dataset"
      ]
    },
    {
      "cell_type": "code",
      "execution_count": 5,
      "id": "11df8e54",
      "metadata": {
        "id": "11df8e54"
      },
      "outputs": [],
      "source": [
        "df = dataset.frame\n",
        "df[\"date\"] = pd.to_datetime(df[[\"year\", \"month\", \"day\"]])    # convert the year, month, day columns to a single date column\n",
        "df = df[[\"date\", \"co2\"]].set_index(\"date\")                 # set the date column as the index"
      ]
    },
    {
      "cell_type": "code",
      "execution_count": 6,
      "id": "8041fd92",
      "metadata": {
        "colab": {
          "base_uri": "https://localhost:8080/",
          "height": 237
        },
        "id": "8041fd92",
        "outputId": "0d341049-754e-408c-af8e-e65b7109af6d"
      },
      "outputs": [
        {
          "output_type": "execute_result",
          "data": {
            "text/plain": [
              "              co2\n",
              "date             \n",
              "1958-03-29  316.1\n",
              "1958-04-05  317.3\n",
              "1958-04-12  317.6\n",
              "1958-04-19  317.5\n",
              "1958-04-26  316.4"
            ],
            "text/html": [
              "\n",
              "  <div id=\"df-7731b910-34c2-482a-8be9-285ac7450bfe\">\n",
              "    <div class=\"colab-df-container\">\n",
              "      <div>\n",
              "<style scoped>\n",
              "    .dataframe tbody tr th:only-of-type {\n",
              "        vertical-align: middle;\n",
              "    }\n",
              "\n",
              "    .dataframe tbody tr th {\n",
              "        vertical-align: top;\n",
              "    }\n",
              "\n",
              "    .dataframe thead th {\n",
              "        text-align: right;\n",
              "    }\n",
              "</style>\n",
              "<table border=\"1\" class=\"dataframe\">\n",
              "  <thead>\n",
              "    <tr style=\"text-align: right;\">\n",
              "      <th></th>\n",
              "      <th>co2</th>\n",
              "    </tr>\n",
              "    <tr>\n",
              "      <th>date</th>\n",
              "      <th></th>\n",
              "    </tr>\n",
              "  </thead>\n",
              "  <tbody>\n",
              "    <tr>\n",
              "      <th>1958-03-29</th>\n",
              "      <td>316.1</td>\n",
              "    </tr>\n",
              "    <tr>\n",
              "      <th>1958-04-05</th>\n",
              "      <td>317.3</td>\n",
              "    </tr>\n",
              "    <tr>\n",
              "      <th>1958-04-12</th>\n",
              "      <td>317.6</td>\n",
              "    </tr>\n",
              "    <tr>\n",
              "      <th>1958-04-19</th>\n",
              "      <td>317.5</td>\n",
              "    </tr>\n",
              "    <tr>\n",
              "      <th>1958-04-26</th>\n",
              "      <td>316.4</td>\n",
              "    </tr>\n",
              "  </tbody>\n",
              "</table>\n",
              "</div>\n",
              "      <button class=\"colab-df-convert\" onclick=\"convertToInteractive('df-7731b910-34c2-482a-8be9-285ac7450bfe')\"\n",
              "              title=\"Convert this dataframe to an interactive table.\"\n",
              "              style=\"display:none;\">\n",
              "        \n",
              "  <svg xmlns=\"http://www.w3.org/2000/svg\" height=\"24px\"viewBox=\"0 0 24 24\"\n",
              "       width=\"24px\">\n",
              "    <path d=\"M0 0h24v24H0V0z\" fill=\"none\"/>\n",
              "    <path d=\"M18.56 5.44l.94 2.06.94-2.06 2.06-.94-2.06-.94-.94-2.06-.94 2.06-2.06.94zm-11 1L8.5 8.5l.94-2.06 2.06-.94-2.06-.94L8.5 2.5l-.94 2.06-2.06.94zm10 10l.94 2.06.94-2.06 2.06-.94-2.06-.94-.94-2.06-.94 2.06-2.06.94z\"/><path d=\"M17.41 7.96l-1.37-1.37c-.4-.4-.92-.59-1.43-.59-.52 0-1.04.2-1.43.59L10.3 9.45l-7.72 7.72c-.78.78-.78 2.05 0 2.83L4 21.41c.39.39.9.59 1.41.59.51 0 1.02-.2 1.41-.59l7.78-7.78 2.81-2.81c.8-.78.8-2.07 0-2.86zM5.41 20L4 18.59l7.72-7.72 1.47 1.35L5.41 20z\"/>\n",
              "  </svg>\n",
              "      </button>\n",
              "      \n",
              "  <style>\n",
              "    .colab-df-container {\n",
              "      display:flex;\n",
              "      flex-wrap:wrap;\n",
              "      gap: 12px;\n",
              "    }\n",
              "\n",
              "    .colab-df-convert {\n",
              "      background-color: #E8F0FE;\n",
              "      border: none;\n",
              "      border-radius: 50%;\n",
              "      cursor: pointer;\n",
              "      display: none;\n",
              "      fill: #1967D2;\n",
              "      height: 32px;\n",
              "      padding: 0 0 0 0;\n",
              "      width: 32px;\n",
              "    }\n",
              "\n",
              "    .colab-df-convert:hover {\n",
              "      background-color: #E2EBFA;\n",
              "      box-shadow: 0px 1px 2px rgba(60, 64, 67, 0.3), 0px 1px 3px 1px rgba(60, 64, 67, 0.15);\n",
              "      fill: #174EA6;\n",
              "    }\n",
              "\n",
              "    [theme=dark] .colab-df-convert {\n",
              "      background-color: #3B4455;\n",
              "      fill: #D2E3FC;\n",
              "    }\n",
              "\n",
              "    [theme=dark] .colab-df-convert:hover {\n",
              "      background-color: #434B5C;\n",
              "      box-shadow: 0px 1px 3px 1px rgba(0, 0, 0, 0.15);\n",
              "      filter: drop-shadow(0px 1px 2px rgba(0, 0, 0, 0.3));\n",
              "      fill: #FFFFFF;\n",
              "    }\n",
              "  </style>\n",
              "\n",
              "      <script>\n",
              "        const buttonEl =\n",
              "          document.querySelector('#df-7731b910-34c2-482a-8be9-285ac7450bfe button.colab-df-convert');\n",
              "        buttonEl.style.display =\n",
              "          google.colab.kernel.accessAllowed ? 'block' : 'none';\n",
              "\n",
              "        async function convertToInteractive(key) {\n",
              "          const element = document.querySelector('#df-7731b910-34c2-482a-8be9-285ac7450bfe');\n",
              "          const dataTable =\n",
              "            await google.colab.kernel.invokeFunction('convertToInteractive',\n",
              "                                                     [key], {});\n",
              "          if (!dataTable) return;\n",
              "\n",
              "          const docLinkHtml = 'Like what you see? Visit the ' +\n",
              "            '<a target=\"_blank\" href=https://colab.research.google.com/notebooks/data_table.ipynb>data table notebook</a>'\n",
              "            + ' to learn more about interactive tables.';\n",
              "          element.innerHTML = '';\n",
              "          dataTable['output_type'] = 'display_data';\n",
              "          await google.colab.output.renderOutput(dataTable, element);\n",
              "          const docLink = document.createElement('div');\n",
              "          docLink.innerHTML = docLinkHtml;\n",
              "          element.appendChild(docLink);\n",
              "        }\n",
              "      </script>\n",
              "    </div>\n",
              "  </div>\n",
              "  "
            ]
          },
          "metadata": {},
          "execution_count": 6
        }
      ],
      "source": [
        "df.head()     # show the first 5 rows of the new changed dataset"
      ]
    },
    {
      "cell_type": "code",
      "execution_count": 7,
      "id": "d19da041",
      "metadata": {
        "id": "d19da041"
      },
      "outputs": [],
      "source": [
        "df = df.resample(\"M\").mean().dropna(axis=\"index\", how=\"any\")   # Removing the na points from the dataset and resampling the data"
      ]
    },
    {
      "cell_type": "code",
      "execution_count": 8,
      "id": "b1f9694c",
      "metadata": {
        "colab": {
          "base_uri": "https://localhost:8080/",
          "height": 335
        },
        "id": "b1f9694c",
        "outputId": "35d41d87-5617-4278-b37b-1c776e27df75"
      },
      "outputs": [
        {
          "output_type": "execute_result",
          "data": {
            "text/plain": [
              "Text(0, 0.5, 'CO$_2$ concentration (ppm)')"
            ]
          },
          "metadata": {},
          "execution_count": 8
        },
        {
          "output_type": "display_data",
          "data": {
            "text/plain": [
              "<Figure size 1008x360 with 1 Axes>"
            ],
            "image/png": "[encoded data removed]"
          },
          "metadata": {
            "needs_background": "light"
          }
        }
      ],
      "source": [
        "df.plot(figsize=(14, 5))\n",
        "plt.ylabel(\"CO$_2$ concentration (ppm)\")"
      ]
    },
    {
      "cell_type": "code",
      "execution_count": 9,
      "id": "01af3ac6",
      "metadata": {
        "id": "01af3ac6"
      },
      "outputs": [],
      "source": [
        "X_original = (df.index.year + df.index.month / 12).to_numpy().reshape(-1, 1)    # converting the date column to a numpy array"
      ]
    },
    {
      "cell_type": "code",
      "execution_count": 10,
      "id": "2a76a2c8",
      "metadata": {
        "id": "2a76a2c8"
      },
      "outputs": [],
      "source": [
        "s = 200\n",
        "n = 450\n",
        "scaler = sp.StandardScaler()\n",
        "X=X_original[s:n]            ## Taking only points betweeen s & n for the training set\n",
        "scaler = scaler.fit(X)       \n",
        "x = scaler.transform(X)      ## Downscaling the dataset so that the values are within the similar value ranges so that the gradient descent converges faster"
      ]
    },
    {
      "cell_type": "code",
      "source": [
        "X_original[200],X_original[450]"
      ],
      "metadata": {
        "colab": {
          "base_uri": "https://localhost:8080/"
        },
        "id": "gxkhX_zCeVbS",
        "outputId": "5899a369-7621-4a9f-cf4c-851533ef9275"
      },
      "id": "gxkhX_zCeVbS",
      "execution_count": 11,
      "outputs": [
        {
          "output_type": "execute_result",
          "data": {
            "text/plain": [
              "(array([1975.33333333]), array([1996.16666667]))"
            ]
          },
          "metadata": {},
          "execution_count": 11
        }
      ]
    },
    {
      "cell_type": "code",
      "execution_count": 12,
      "id": "fb6154c8",
      "metadata": {
        "id": "fb6154c8"
      },
      "outputs": [],
      "source": [
        "Y_original = jnp.array(df[\"co2\"])\n",
        "Y=Y_original[s:n]\n",
        "min_max = sp.MinMaxScaler(feature_range=(0, 5))\n",
        "min_max = min_max.fit(Y.reshape(-1, 1))\n",
        "y = min_max.transform(Y.reshape(-1, 1))\n",
        "Y=Y.reshape(-1,1)"
      ]
    },
    {
      "cell_type": "markdown",
      "id": "45bb010e",
      "metadata": {
        "id": "45bb010e"
      },
      "source": [
        "### **Kernel Design**"
      ]
    },
    {
      "cell_type": "code",
      "execution_count": 13,
      "id": "44473b73",
      "metadata": {
        "colab": {
          "base_uri": "https://localhost:8080/"
        },
        "id": "44473b73",
        "outputId": "f4a97aa2-588e-4dc3-be3b-75863fe45614"
      },
      "outputs": [
        {
          "output_type": "stream",
          "name": "stderr",
          "text": [
            " /usr/local/lib/python3.7/dist-packages/paramz/transformations.py:111: RuntimeWarning:overflow encountered in expm1\n"
          ]
        }
      ],
      "source": [
        "final_kernel=kernels.Exponential(1)+kernels.Bias(1,variance=10000.)+kernels.Linear(1)+kernels.StdPeriodic(1,period=1.)*kernels.RBF(1)"
      ]
    },
    {
      "cell_type": "markdown",
      "id": "258ce964",
      "metadata": {
        "id": "258ce964"
      },
      "source": [
        "Logic behind using the above mentioned kernel design:\n",
        "1. To add the linear trend as seen in the data. The linear kernel was added in the summation above.\n",
        "2. Bias kernel has been used to add the minimum starting point of the prediction based on the earlier data so that the predictions always start above a certain level\n",
        "3. To add non linearity to the overall trend for better fit we have used the exponential kernel\n",
        "4. To add periodicity to the data we have used the StdPeriodic kernel and further multiplied it with thr RBF kernel to modulate the amplitude"
      ]
    },
    {
      "cell_type": "markdown",
      "id": "37aa5c42",
      "metadata": {
        "id": "37aa5c42"
      },
      "source": [
        "### **Creating the GP model**"
      ]
    },
    {
      "cell_type": "code",
      "execution_count": 14,
      "id": "45b677b9",
      "metadata": {
        "colab": {
          "base_uri": "https://localhost:8080/",
          "height": 367
        },
        "id": "45b677b9",
        "outputId": "d002c98c-971b-4e57-9f34-c385ec3890a8",
        "scrolled": true
      },
      "outputs": [
        {
          "output_type": "execute_result",
          "data": {
            "text/plain": [
              "<GPy.models.gp_regression.GPRegression at 0x7f578067fe90>"
            ],
            "text/html": [
              "<style type=\"text/css\">\n",
              ".pd{\n",
              "    font-family: \"Courier New\", Courier, monospace !important;\n",
              "    width: 100%;\n",
              "    padding: 3px;\n",
              "}\n",
              "</style>\n",
              "\n",
              "<p class=pd>\n",
              "<b>Model</b>: GP regression<br>\n",
              "<b>Objective</b>: 574.274658203125<br>\n",
              "<b>Number of Parameters</b>: 10<br>\n",
              "<b>Number of Optimization Parameters</b>: 10<br>\n",
              "<b>Updates</b>: True<br>\n",
              "</p>\n",
              "<style type=\"text/css\">\n",
              ".tg  {font-family:\"Courier New\", Courier, monospace !important;padding:2px 3px;word-break:normal;border-collapse:collapse;border-spacing:0;border-color:#DCDCDC;margin:0px auto;width:100%;}\n",
              ".tg td{font-family:\"Courier New\", Courier, monospace !important;font-weight:bold;color:#444;background-color:#F7FDFA;border-style:solid;border-width:1px;overflow:hidden;word-break:normal;border-color:#DCDCDC;}\n",
              ".tg th{font-family:\"Courier New\", Courier, monospace !important;font-weight:normal;color:#fff;background-color:#26ADE4;border-style:solid;border-width:1px;overflow:hidden;word-break:normal;border-color:#DCDCDC;}\n",
              ".tg .tg-left{font-family:\"Courier New\", Courier, monospace !important;font-weight:normal;text-align:left;}\n",
              ".tg .tg-center{font-family:\"Courier New\", Courier, monospace !important;font-weight:normal;text-align:center;}\n",
              ".tg .tg-right{font-family:\"Courier New\", Courier, monospace !important;font-weight:normal;text-align:right;}\n",
              "</style>\n",
              "<table class=\"tg\"><tr><th><b>  GP_regression.                  </b></th><th><b>  value</b></th><th><b>constraints</b></th><th><b>priors</b></th></tr>\n",
              "<tr><td class=tg-left>  sum.Exponential.variance        </td><td class=tg-right>    1.0</td><td class=tg-center>    +ve    </td><td class=tg-center>      </td></tr>\n",
              "<tr><td class=tg-left>  sum.Exponential.lengthscale     </td><td class=tg-right>    1.0</td><td class=tg-center>    +ve    </td><td class=tg-center>      </td></tr>\n",
              "<tr><td class=tg-left>  sum.bias.variance               </td><td class=tg-right>10000.0</td><td class=tg-center>    +ve    </td><td class=tg-center>      </td></tr>\n",
              "<tr><td class=tg-left>  sum.linear.variances            </td><td class=tg-right>    1.0</td><td class=tg-center>    +ve    </td><td class=tg-center>      </td></tr>\n",
              "<tr><td class=tg-left>  sum.mul.std_periodic.variance   </td><td class=tg-right>    1.0</td><td class=tg-center>    +ve    </td><td class=tg-center>      </td></tr>\n",
              "<tr><td class=tg-left>  sum.mul.std_periodic.period     </td><td class=tg-right>    1.0</td><td class=tg-center>    +ve    </td><td class=tg-center>      </td></tr>\n",
              "<tr><td class=tg-left>  sum.mul.std_periodic.lengthscale</td><td class=tg-right>    1.0</td><td class=tg-center>    +ve    </td><td class=tg-center>      </td></tr>\n",
              "<tr><td class=tg-left>  sum.mul.rbf.variance            </td><td class=tg-right>    1.0</td><td class=tg-center>    +ve    </td><td class=tg-center>      </td></tr>\n",
              "<tr><td class=tg-left>  sum.mul.rbf.lengthscale         </td><td class=tg-right>    1.0</td><td class=tg-center>    +ve    </td><td class=tg-center>      </td></tr>\n",
              "<tr><td class=tg-left>  Gaussian_noise.variance         </td><td class=tg-right>    1.0</td><td class=tg-center>    +ve    </td><td class=tg-center>      </td></tr>\n",
              "</table>"
            ]
          },
          "metadata": {},
          "execution_count": 14
        }
      ],
      "source": [
        "GP_model = GPy.models.GPRegression(X=X, Y=Y, kernel=final_kernel)\n",
        "GP_model"
      ]
    },
    {
      "cell_type": "code",
      "execution_count": 15,
      "id": "505403e3",
      "metadata": {
        "colab": {
          "base_uri": "https://localhost:8080/"
        },
        "id": "505403e3",
        "outputId": "e85c19de-38c3-44ad-8840-427dc5481c91"
      },
      "outputs": [
        {
          "output_type": "stream",
          "name": "stdout",
          "text": [
            "Optimization restart 1/10, f = 81.61162567138672\n",
            "Optimization restart 2/10, f = 265.90350341796875\n",
            "Optimization restart 3/10, f = 82.5416488647461\n",
            "Optimization restart 4/10, f = 262.9546203613281\n",
            "Optimization restart 5/10, f = 265.7091064453125\n"
          ]
        },
        {
          "output_type": "stream",
          "name": "stderr",
          "text": [
            " /usr/local/lib/python3.7/dist-packages/GPy/kern/src/stationary.py:168: RuntimeWarning:overflow encountered in true_divide\n",
            " /usr/local/lib/python3.7/dist-packages/GPy/kern/src/rbf.py:52: RuntimeWarning:overflow encountered in square\n",
            " /usr/local/lib/python3.7/dist-packages/GPy/kern/src/stationary.py:213: RuntimeWarning:invalid value encountered in multiply\n",
            " /usr/local/lib/python3.7/dist-packages/GPy/kern/src/rbf.py:76: RuntimeWarning:invalid value encountered in multiply\n"
          ]
        },
        {
          "output_type": "stream",
          "name": "stdout",
          "text": [
            "Optimization restart 6/10, f = 100.92680358886719\n",
            "Optimization restart 7/10, f = 414.5607604980469\n",
            "Optimization restart 8/10, f = 411.69122314453125\n",
            "Optimization restart 9/10, f = 391.2554931640625\n",
            "Optimization restart 10/10, f = 391.5146179199219\n"
          ]
        },
        {
          "output_type": "execute_result",
          "data": {
            "text/plain": [
              "[<paramz.optimization.optimization.opt_lbfgsb at 0x7f578062a290>,\n",
              " <paramz.optimization.optimization.opt_lbfgsb at 0x7f5795d43d90>,\n",
              " <paramz.optimization.optimization.opt_lbfgsb at 0x7f578061f690>,\n",
              " <paramz.optimization.optimization.opt_lbfgsb at 0x7f57cce37150>,\n",
              " <paramz.optimization.optimization.opt_lbfgsb at 0x7f5799f097d0>,\n",
              " <paramz.optimization.optimization.opt_lbfgsb at 0x7f57957f1cd0>,\n",
              " <paramz.optimization.optimization.opt_lbfgsb at 0x7f578061f950>,\n",
              " <paramz.optimization.optimization.opt_lbfgsb at 0x7f57cce37a50>,\n",
              " <paramz.optimization.optimization.opt_lbfgsb at 0x7f57957f1410>,\n",
              " <paramz.optimization.optimization.opt_lbfgsb at 0x7f578068d110>]"
            ]
          },
          "metadata": {},
          "execution_count": 15
        }
      ],
      "source": [
        "GP_model.optimize_restarts(num_restarts=10)"
      ]
    },
    {
      "cell_type": "markdown",
      "id": "3d927315",
      "metadata": {
        "id": "3d927315"
      },
      "source": [
        "### **Testing the model**"
      ]
    },
    {
      "cell_type": "code",
      "execution_count": 16,
      "id": "6b4c1670",
      "metadata": {
        "colab": {
          "base_uri": "https://localhost:8080/",
          "height": 0
        },
        "id": "6b4c1670",
        "outputId": "6d3d7e94-68e1-4f93-8780-3b2b557e081d"
      },
      "outputs": [
        {
          "output_type": "execute_result",
          "data": {
            "text/plain": [
              "<matplotlib.legend.Legend at 0x7f5780575350>"
            ]
          },
          "metadata": {},
          "execution_count": 16
        },
        {
          "output_type": "display_data",
          "data": {
            "text/plain": [
              "<Figure size 432x288 with 1 Axes>"
            ],
            "image/png": "[encoded data removed]"
          },
          "metadata": {
            "needs_background": "light"
          }
        }
      ],
      "source": [
        "GP_model.plot()\n",
        "plt.plot(X_original,Y_original,label=\"Dataset\",color=\"red\")\n",
        "plt.legend()"
      ]
    },
    {
      "cell_type": "code",
      "source": [
        "X_original.shape"
      ],
      "metadata": {
        "colab": {
          "base_uri": "https://localhost:8080/"
        },
        "id": "v1nd2RNYsg5C",
        "outputId": "49d37613-6468-4028-d221-1183b4d34c68"
      },
      "id": "v1nd2RNYsg5C",
      "execution_count": 17,
      "outputs": [
        {
          "output_type": "execute_result",
          "data": {
            "text/plain": [
              "(521, 1)"
            ]
          },
          "metadata": {},
          "execution_count": 17
        }
      ]
    },
    {
      "cell_type": "code",
      "source": [
        "plt.plot(X_original,Y_original)\n",
        "mean_gp,std_gp=GP_model.predict(X_original)\n",
        "mean_gp=mean_gp.reshape(521,)\n",
        "plt.ylim(240,390)\n",
        "plt.xlim(1960,2000)\n",
        "std_gp=std_gp.reshape(521,)\n",
        "for i in range(1, 3):\n",
        "    plt.fill_between(\n",
        "        X_original.reshape(521,),\n",
        "      mean_gp - i*std_gp,\n",
        "      mean_gp + i*std_gp,\n",
        "      color=\"orange\",\n",
        "      alpha= 1/ ((i * 3)-1),\n",
        "        label=f\"mean $\\pm$ {i}*std\")\n",
        "plt.legend()"
      ],
      "metadata": {
        "colab": {
          "base_uri": "https://localhost:8080/",
          "height": 0
        },
        "id": "M5HVhlnTNWdV",
        "outputId": "19cbcaee-b72f-4716-bb24-0d8b2de55c1e"
      },
      "id": "M5HVhlnTNWdV",
      "execution_count": 18,
      "outputs": [
        {
          "output_type": "execute_result",
          "data": {
            "text/plain": [
              "<matplotlib.legend.Legend at 0x7f5780541c50>"
            ]
          },
          "metadata": {},
          "execution_count": 18
        },
        {
          "output_type": "display_data",
          "data": {
            "text/plain": [
              "<Figure size 432x288 with 1 Axes>"
            ],
            "image/png": "[encoded data removed]"
          },
          "metadata": {
            "needs_background": "light"
          }
        }
      ]
    },
    {
      "cell_type": "markdown",
      "id": "aea5f0c3",
      "metadata": {
        "id": "aea5f0c3"
      },
      "source": [
        "### **MC Dropout**"
      ]
    },
    {
      "cell_type": "code",
      "execution_count": 19,
      "id": "ed96791d",
      "metadata": {
        "id": "ed96791d"
      },
      "outputs": [],
      "source": [
        "class mc_dropout(nn.Module):\n",
        "    features: list\n",
        "\n",
        "    @nn.compact\n",
        "    def __call__(self, x, deterministic=True, rate=0.1):\n",
        "\n",
        "        for i, feature in enumerate(self.features):\n",
        "            x = nn.Dense(feature)(x)\n",
        "            x = nn.relu(x)\n",
        "            x = nn.Dropout(rate=rate, deterministic=deterministic)(x)\n",
        "\n",
        "        x = nn.Dense(1)(x)\n",
        "        return x\n",
        "\n",
        "    def loss_fn(\n",
        "        self, params, x, y, deterministic=False, rate=0.1, rng=jax.random.PRNGKey(0)):\n",
        "        y_pred = self.apply(params, x, deterministic, rate, rngs={\"dropout\": rng})\n",
        "        loss = jnp.mean((y - y_pred) ** 2)\n",
        "        return loss"
      ]
    },
    {
      "cell_type": "code",
      "execution_count": 20,
      "id": "045c63ed",
      "metadata": {
        "id": "045c63ed"
      },
      "outputs": [],
      "source": [
        "def fit(model, params, auxs, learning_rate=0.01, epochs=1000, verbose=False):\n",
        "    opt = optax.adam(learning_rate=learning_rate)\n",
        "    opt_state = opt.init(params)\n",
        "\n",
        "    partial_loss_fn = partial(\n",
        "        model.loss_fn, deterministic=auxs[\"deterministic\"], rate=auxs[\"rate\"]\n",
        "    )\n",
        "    loss_grad_fn = jax.jit(jax.value_and_grad(partial_loss_fn))\n",
        "    losses = []\n",
        "    upd = jax.jit(opt.update)\n",
        "    x, y = auxs[\"X\"], auxs[\"y\"]\n",
        "    rng = jax.random.PRNGKey(0)\n",
        "    for i in range(epochs):\n",
        "        rng, _ = jax.random.split(rng)\n",
        "        loss_val, grads = loss_grad_fn(params, x, y, rng=rng)\n",
        "        updates, opt_state = upd(grads, opt_state, params)\n",
        "        params = optax.apply_updates(params, updates)\n",
        "        losses.append(loss_val)\n",
        "        if verbose and i % (epochs / 10) == 0:\n",
        "            print(\"Loss step {}: \".format(i), loss_val)\n",
        "    return params, jnp.array(losses)"
      ]
    },
    {
      "cell_type": "code",
      "execution_count": 21,
      "id": "97fe11ec",
      "metadata": {
        "id": "97fe11ec"
      },
      "outputs": [],
      "source": [
        "model = mc_dropout(features=[256, 512, 256, 128])"
      ]
    },
    {
      "cell_type": "code",
      "execution_count": 22,
      "id": "899fa4f1",
      "metadata": {
        "id": "899fa4f1"
      },
      "outputs": [],
      "source": [
        "params = model.init(jax.random.PRNGKey(0), x)"
      ]
    },
    {
      "cell_type": "code",
      "execution_count": 23,
      "id": "cbf997f9",
      "metadata": {
        "colab": {
          "base_uri": "https://localhost:8080/"
        },
        "id": "cbf997f9",
        "outputId": "c0f358b3-d3c2-4647-ae96-1a0f6c074d08"
      },
      "outputs": [
        {
          "output_type": "stream",
          "name": "stdout",
          "text": [
            "Loss step 0:  7.970373\n",
            "Loss step 9000:  0.07845649\n",
            "Loss step 18000:  0.058705784\n",
            "Loss step 27000:  0.053472925\n",
            "Loss step 36000:  0.046572044\n",
            "Loss step 45000:  0.038223423\n",
            "Loss step 54000:  0.032517053\n",
            "Loss step 63000:  0.036174674\n",
            "Loss step 72000:  0.029211778\n",
            "Loss step 81000:  0.026915217\n"
          ]
        }
      ],
      "source": [
        "auxs = {\"X\": x, \"y\": y, \"deterministic\": False, \"rate\": 0.1}\n",
        "params, losses = fit(\n",
        "    model, params, auxs, learning_rate=0.0005, epochs=90000, verbose=True\n",
        ")"
      ]
    },
    {
      "cell_type": "code",
      "execution_count": 24,
      "id": "7f29590c",
      "metadata": {
        "id": "7f29590c"
      },
      "outputs": [],
      "source": [
        "def eval(params, x, deterministic=False, rate=0.1, rng=jax.random.PRNGKey(0)):\n",
        "    return model.apply(params, x, deterministic=False, rate=0.1, rngs={\"dropout\": rng})"
      ]
    },
    {
      "cell_type": "code",
      "execution_count": 25,
      "id": "ae6a9d5b",
      "metadata": {
        "id": "ae6a9d5b"
      },
      "outputs": [],
      "source": [
        "x_test = scaler.transform(X_original)\n",
        "n_stacks = 100\n",
        "y_stacks = []\n",
        "partial_eval_fn = partial(eval, deterministic=False, rate=0.1)\n",
        "evaluate = jax.jit(partial_eval_fn)\n",
        "for i in range(n_stacks):\n",
        "    r_y = evaluate(params, x_test, rng=jax.random.PRNGKey(i))\n",
        "    r_y = min_max.inverse_transform(r_y)\n",
        "    y_stacks.append(r_y)"
      ]
    },
    {
      "cell_type": "code",
      "execution_count": 26,
      "id": "3240f37a",
      "metadata": {
        "id": "3240f37a"
      },
      "outputs": [],
      "source": [
        "y_stacks = jnp.array(y_stacks)"
      ]
    },
    {
      "cell_type": "code",
      "execution_count": 27,
      "id": "81cbfb54",
      "metadata": {
        "id": "81cbfb54"
      },
      "outputs": [],
      "source": [
        "mean = (y_stacks.mean(axis=0)).squeeze()\n",
        "std = (y_stacks.std(axis=0)).squeeze()"
      ]
    },
    {
      "cell_type": "code",
      "execution_count": 28,
      "id": "73451943",
      "metadata": {
        "id": "73451943"
      },
      "outputs": [],
      "source": [
        "x_test = scaler.inverse_transform(x_test)"
      ]
    },
    {
      "cell_type": "code",
      "execution_count": 29,
      "id": "0deb6dae",
      "metadata": {
        "colab": {
          "base_uri": "https://localhost:8080/",
          "height": 298
        },
        "id": "0deb6dae",
        "outputId": "838a57d8-dac2-4282-f3e5-93ae64a6cd5e"
      },
      "outputs": [
        {
          "output_type": "execute_result",
          "data": {
            "text/plain": [
              "(1970.0, 2000.0)"
            ]
          },
          "metadata": {},
          "execution_count": 29
        },
        {
          "output_type": "display_data",
          "data": {
            "text/plain": [
              "<Figure size 432x288 with 1 Axes>"
            ],
            "image/png": "[encoded data removed]"
          },
          "metadata": {
            "needs_background": "light"
          }
        }
      ],
      "source": [
        "plt.title(\"MC dropout\")\n",
        "plt.plot(X_original, Y_original, linewidth=2)\n",
        "\n",
        "for i in range(1, 4):\n",
        "    plt.fill_between(\n",
        "        x_test.squeeze(),\n",
        "        mean - i * std,\n",
        "        mean + i * std,\n",
        "        color=\"orange\",\n",
        "        alpha=1 / (i * 3),\n",
        "        label=f\"mean $\\pm$ {i}*std\",\n",
        "    )\n",
        "plt.legend(loc=\"upper left\")\n",
        "sns.despine()\n",
        "plt.ylim(300, 400)\n",
        "plt.xlim(1970, 2000)"
      ]
    },
    {
      "cell_type": "code",
      "execution_count": 30,
      "id": "d1c8e5e5",
      "metadata": {
        "colab": {
          "base_uri": "https://localhost:8080/",
          "height": 298
        },
        "id": "d1c8e5e5",
        "outputId": "d49db193-9152-48e1-91e7-72c145a444c0"
      },
      "outputs": [
        {
          "output_type": "execute_result",
          "data": {
            "text/plain": [
              "(1970.0, 2005.0)"
            ]
          },
          "metadata": {},
          "execution_count": 30
        },
        {
          "output_type": "display_data",
          "data": {
            "text/plain": [
              "<Figure size 432x288 with 1 Axes>"
            ],
            "image/png": "[encoded data removed]"
          },
          "metadata": {
            "needs_background": "light"
          }
        }
      ],
      "source": [
        "plt.plot(X_original, Y_original, linewidth=2,label=\"Dataset\",color=\"red\",linestyle=\"dashed\",alpha=0.5)\n",
        "\n",
        "for i in range(1, 3):\n",
        "    plt.fill_between(\n",
        "        x_test.squeeze(),\n",
        "        mean - i * std,\n",
        "        mean + i * std,\n",
        "        color=\"orange\",\n",
        "        alpha=1 / ((i * 3)),\n",
        "        label=f\"mean $\\pm$ {i}*std MC Dropout\"\n",
        "    )\n",
        "mean_gp,std_gp=GP_model.predict(X_original)\n",
        "mean_gp=mean_gp.reshape(521,)\n",
        "plt.ylim(240,390)\n",
        "plt.xlim(1960,2000)\n",
        "std_gp=std_gp.reshape(521,)\n",
        "for i in range(1, 3):\n",
        "    plt.fill_between(\n",
        "        X_original.reshape(521,),\n",
        "      mean_gp - i*std_gp,\n",
        "      mean_gp + i*std_gp,\n",
        "      color=\"green\",\n",
        "      alpha= 1/ ((i * 3)-2),\n",
        "        label=f\"mean $\\pm$ {i}*std GP\")\n",
        "\n",
        "plt.legend(loc=\"upper left\")\n",
        "sns.despine()\n",
        "plt.title(\"Comparison of GP results and MC Dropout\")\n",
        "plt.ylim(300, 400)\n",
        "plt.xlim(1970, 2005)"
      ]
    }
  ],
  "metadata": {
    "colab": {
      "provenance": [],
      "collapsed_sections": [
        "37aa5c42",
        "3d927315"
      ]
    },
    "kernelspec": {
      "display_name": "Python 3",
      "name": "python3"
    },
    "vscode": {
      "interpreter": {
        "hash": "2b31e37b9074bae08611b7a2a22e3d3d4b471992b266722b3aaa7380a11c7391"
      }
    },
    "accelerator": "GPU",
    "language_info": {
      "name": "python"
    }
  },
  "nbformat": 4,
  "nbformat_minor": 5
}